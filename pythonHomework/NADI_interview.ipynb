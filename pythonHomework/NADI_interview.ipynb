{
 "cells": [
  {
   "cell_type": "code",
   "execution_count": null,
   "id": "0ac43293-f6dd-44c5-9016-5286afbc509c",
   "metadata": {},
   "outputs": [],
   "source": [
    "# Q1\n",
    "def fib(n: int) -> int:\n",
    "      if n == 0:\n",
    "          return 0\n",
    "      if n == 1:\n",
    "          return 1\n",
    "      return fib(n-1)+ fib(n-2)\n",
    "\n",
    "ans=fib(100)\n",
    "print(ans)"
   ]
  },
  {
   "cell_type": "code",
   "execution_count": 1,
   "id": "2184023a-fdc0-4672-b1d8-219e1ca508da",
   "metadata": {},
   "outputs": [
    {
     "name": "stdout",
     "output_type": "stream",
     "text": [
      "CPU times: user 27 µs, sys: 6 µs, total: 33 µs\n",
      "Wall time: 37.2 µs\n"
     ]
    },
    {
     "data": {
      "text/plain": [
       "354224848179261915075"
      ]
     },
     "execution_count": 1,
     "metadata": {},
     "output_type": "execute_result"
    }
   ],
   "source": [
    "# A1\n",
    "# 先把費氏數列寫出來，再去找。\n",
    "# 把複雜度從 tO(2**n) 降到 tO(n) / sO(n)\n",
    "def fib(n:int) -> int:\n",
    "    f=[0,1]\n",
    "    for i in range(2,n+1):\n",
    "        f.append(f[i-2]+f[i-1])\n",
    "    return f[n]\n",
    "%time fib(100)"
   ]
  },
  {
   "cell_type": "code",
   "execution_count": null,
   "id": "2629f865-dc6f-4218-91f0-d33aa03f4924",
   "metadata": {},
   "outputs": [],
   "source": [
    "# Q2\n",
    "input: numbers = [1, 2, 4, 7, 11, 15, 17, 29, 31], target = 22\n",
    "output: [3, 5]\n",
    "\n",
    "input: numbers = [9, 11, 12, 22, 28, 29], target = 33\n",
    "output: [1, 3]"
   ]
  },
  {
   "cell_type": "code",
   "execution_count": 2,
   "id": "258856cc-757c-4591-85b3-72aa57e4f9b8",
   "metadata": {},
   "outputs": [
    {
     "name": "stdout",
     "output_type": "stream",
     "text": [
      "CPU times: user 10 µs, sys: 1 µs, total: 11 µs\n",
      "Wall time: 13.1 µs\n"
     ]
    },
    {
     "data": {
      "text/plain": [
       "[3, 5]"
      ]
     },
     "execution_count": 2,
     "metadata": {},
     "output_type": "execute_result"
    }
   ],
   "source": [
    "# A2\n",
    "# 本來的答案\n",
    "def target(numbers: list, target: int):\n",
    "    for i in range(len(numbers)):\n",
    "        for j in range(len(numbers)):\n",
    "            if numbers[i]+numbers[j] == target:\n",
    "                return [i, j]\n",
    "%time target(numbers = [1, 2, 4, 7, 11, 15, 17, 29, 31], target = 22)"
   ]
  },
  {
   "cell_type": "code",
   "execution_count": 3,
   "id": "d7d767ba-f067-4200-bb68-106ade7cb0c8",
   "metadata": {},
   "outputs": [
    {
     "name": "stdout",
     "output_type": "stream",
     "text": [
      "CPU times: user 6 µs, sys: 1 µs, total: 7 µs\n",
      "Wall time: 9.06 µs\n"
     ]
    },
    {
     "data": {
      "text/plain": [
       "[3, 5]"
      ]
     },
     "execution_count": 3,
     "metadata": {},
     "output_type": "execute_result"
    }
   ],
   "source": [
    "# A2-2\n",
    "# 再想了一下的答案\n",
    "def target(numbers: list, target: int):\n",
    "    for i in range(len(numbers)):\n",
    "        x = target-numbers[i] # 互補數\n",
    "        if x in numbers:\n",
    "            return [i, numbers.index(x, i)] # 從 i 之後找\n",
    "%time target(numbers = [1, 2, 4, 7, 11, 15, 17, 29, 31], target = 22)\n",
    "# 速度上略快，但複雜度一樣為 tO(n**2) / sO(n)"
   ]
  },
  {
   "cell_type": "code",
   "execution_count": null,
   "id": "4b084f48-8ec5-4ba7-9216-53b14cd13c06",
   "metadata": {},
   "outputs": [],
   "source": [
    "# Q3\n",
    "input: (NADI3D(OCMS), id=8)\n",
    "output: True\n",
    "\n",
    "input: (NADI(3D)(OCMS), id=8)\n",
    "output: True\n",
    "\n",
    "input: (NADI3D(OCMS)), id=8)\n",
    "output: False\n",
    "\n",
    "input: (NADI(3D(OCMS), id=8)\n",
    "output: False\n",
    "\n",
    "input: N)(ADI(3D(OCMS), id=8\n",
    "output: False"
   ]
  },
  {
   "cell_type": "code",
   "execution_count": 4,
   "id": "2e8d06af-ffec-482d-8b47-34200e62bc13",
   "metadata": {},
   "outputs": [
    {
     "name": "stdout",
     "output_type": "stream",
     "text": [
      "True\n",
      "True\n",
      "False\n",
      "False\n",
      "False\n"
     ]
    }
   ],
   "source": [
    "# A3 \n",
    "# 從外側同時比對是否對稱\n",
    "# 複雜度 O(n) / O(n)\n",
    "def check (string: str):\n",
    "    l = []\n",
    "    r = []\n",
    "    for i in string:\n",
    "        if i == \"(\" or i == \")\":\n",
    "            l.append(i) #插最後（左至右）\n",
    "            r.insert(0,i) #插最前（右至左）\n",
    "    for i in range(len(l)):\n",
    "        if (l[i] == \"(\" and r[i] == \")\") or (l[i] == \")\" and r[i] == \"(\"): #兩兩配對\n",
    "            continue\n",
    "        else: \n",
    "            return False\n",
    "    return True\n",
    "str = [\"(NADI3D(OCMS), id=8)\",'(NADI(3D)(OCMS), id=8)', \"(NADI3D(OCMS)), id=8)\", '(NADI(3D(OCMS), id=8)', \"N)(ADI(3D(OCMS), id=8\"]\n",
    "for x in str:\n",
    "    print(check(x))"
   ]
  },
  {
   "cell_type": "code",
   "execution_count": 5,
   "id": "a44a518e-517f-4210-926e-d554aa2b8427",
   "metadata": {},
   "outputs": [
    {
     "data": {
      "text/plain": [
       "True"
      ]
     },
     "execution_count": 5,
     "metadata": {},
     "output_type": "execute_result"
    }
   ],
   "source": [
    "# 可以應付題目，但還有漏洞要改善。\n",
    "str = \")abc(\"\n",
    "check(str)"
   ]
  },
  {
   "cell_type": "code",
   "execution_count": 6,
   "id": "cc93d059-b0a3-4f72-881f-1a73d57e8ea4",
   "metadata": {},
   "outputs": [
    {
     "name": "stdout",
     "output_type": "stream",
     "text": [
      "4\n",
      "3\n",
      "2\n",
      "1\n",
      "1\n",
      "2\n",
      "1\n",
      "1\n",
      "2\n",
      "1\n",
      "1\n",
      "3\n",
      "2\n",
      "1\n",
      "1\n",
      "2\n",
      "1\n",
      "1\n",
      "2\n",
      "1\n",
      "1\n",
      "3\n",
      "2\n",
      "1\n",
      "1\n",
      "2\n",
      "1\n",
      "1\n",
      "2\n",
      "1\n",
      "1\n",
      "3\n",
      "2\n",
      "1\n",
      "1\n",
      "2\n",
      "1\n",
      "1\n",
      "2\n",
      "1\n",
      "1\n"
     ]
    }
   ],
   "source": [
    "# Communication\n",
    "def foo(n):\n",
    "    print(n)\n",
    "    if n == 1:\n",
    "        return\n",
    "    for i in range(n):\n",
    "        foo(n - 1)\n",
    "foo(4)\n",
    "# 時間複雜度 O(n**n) / 空間複雜度 sO(1)"
   ]
  }
 ],
 "metadata": {
  "kernelspec": {
   "display_name": "Python 3 (ipykernel)",
   "language": "python",
   "name": "python3"
  },
  "language_info": {
   "codemirror_mode": {
    "name": "ipython",
    "version": 3
   },
   "file_extension": ".py",
   "mimetype": "text/x-python",
   "name": "python",
   "nbconvert_exporter": "python",
   "pygments_lexer": "ipython3",
   "version": "3.9.12"
  }
 },
 "nbformat": 4,
 "nbformat_minor": 5
}
